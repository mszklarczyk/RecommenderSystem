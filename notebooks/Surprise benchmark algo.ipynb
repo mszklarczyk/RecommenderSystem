{
 "cells": [
  {
   "cell_type": "code",
   "execution_count": 1,
   "id": "reduced-answer",
   "metadata": {},
   "outputs": [],
   "source": [
    "\"\"\"This module runs a 5-Fold CV for all the algorithms (default parameters) on\n",
    "the movielens datasets, and reports average RMSE, MAE, and total computation\n",
    "time.  It is used for making tables in the README.md file\"\"\"\n",
    "\n",
    "from __future__ import (absolute_import, division, print_function,\n",
    "                        unicode_literals)\n",
    "import time\n",
    "import datetime\n",
    "import random\n",
    "\n",
    "import numpy as np\n",
    "import six\n",
    "from tabulate import tabulate\n",
    "\n",
    "from surprise import Dataset\n",
    "from surprise.model_selection import cross_validate\n",
    "from surprise.model_selection import KFold\n",
    "from surprise import NormalPredictor\n",
    "from surprise import BaselineOnly\n",
    "from surprise import KNNBasic\n",
    "from surprise import KNNWithMeans\n",
    "from surprise import KNNBaseline\n",
    "from surprise import SVD\n",
    "from surprise import SVDpp\n",
    "from surprise import NMF\n",
    "from surprise import SlopeOne\n",
    "from surprise import CoClustering"
   ]
  },
  {
   "cell_type": "code",
   "execution_count": 2,
   "id": "stupid-great",
   "metadata": {},
   "outputs": [],
   "source": [
    "# The algorithms to cross-validate\n",
    "classes = (SVD, NMF, SlopeOne, CoClustering, BaselineOnly, NormalPredictor)\n",
    "# classes = (SVD, SVDpp, NMF, SlopeOne, KNNBasic, KNNWithMeans, KNNBaseline,\n",
    "#            CoClustering, BaselineOnly, NormalPredictor)"
   ]
  },
  {
   "cell_type": "code",
   "execution_count": 3,
   "id": "promotional-boards",
   "metadata": {},
   "outputs": [],
   "source": [
    "# ugly dict to map algo names and datasets to their markdown links in the table\n",
    "stable = 'http://surprise.readthedocs.io/en/stable/'\n",
    "LINK = {'SVD': '[{}]({})'.format('SVD',\n",
    "                                 stable +\n",
    "                                 'matrix_factorization.html#surprise.prediction_algorithms.matrix_factorization.SVD'),\n",
    "        'SVDpp': '[{}]({})'.format('SVD++',\n",
    "                                   stable +\n",
    "                                   'matrix_factorization.html#surprise.prediction_algorithms.matrix_factorization.SVDpp'),\n",
    "        'NMF': '[{}]({})'.format('NMF',\n",
    "                                 stable +\n",
    "                                 'matrix_factorization.html#surprise.prediction_algorithms.matrix_factorization.NMF'),\n",
    "        'SlopeOne': '[{}]({})'.format('Slope One',\n",
    "                                      stable +\n",
    "                                      'slope_one.html#surprise.prediction_algorithms.slope_one.SlopeOne'),\n",
    "        'KNNBasic': '[{}]({})'.format('k-NN',\n",
    "                                      stable +\n",
    "                                      'knn_inspired.html#surprise.prediction_algorithms.knns.KNNBasic'),\n",
    "        'KNNWithMeans': '[{}]({})'.format('Centered k-NN',\n",
    "                                          stable +\n",
    "                                          'knn_inspired.html#surprise.prediction_algorithms.knns.KNNWithMeans'),\n",
    "        'KNNBaseline': '[{}]({})'.format('k-NN Baseline',\n",
    "                                         stable +\n",
    "                                         'knn_inspired.html#surprise.prediction_algorithms.knns.KNNBaseline'),\n",
    "        'CoClustering': '[{}]({})'.format('Co-Clustering',\n",
    "                                          stable +\n",
    "                                          'co_clustering.html#surprise.prediction_algorithms.co_clustering.CoClustering'),\n",
    "        'BaselineOnly': '[{}]({})'.format('Baseline',\n",
    "                                          stable +\n",
    "                                          'basic_algorithms.html#surprise.prediction_algorithms.baseline_only.BaselineOnly'),\n",
    "        'NormalPredictor': '[{}]({})'.format('Random',\n",
    "                                             stable +\n",
    "                                             'basic_algorithms.html#surprise.prediction_algorithms.random_pred.NormalPredictor'),\n",
    "        'ml-100k': '[{}]({})'.format('Movielens 100k',\n",
    "                                     'http://grouplens.org/datasets/movielens/100k'),\n",
    "        'ml-1m': '[{}]({})'.format('Movielens 1M',\n",
    "                                   'http://grouplens.org/datasets/movielens/1m'),\n",
    "        }"
   ]
  },
  {
   "cell_type": "code",
   "execution_count": 12,
   "id": "sophisticated-airline",
   "metadata": {},
   "outputs": [],
   "source": [
    "# ugly dict to map algo names and datasets to their markdown links in the table\n",
    "stable = 'http://surprise.readthedocs.io/en/stable/'\n",
    "LINK = {'SVD': 'SVD',\n",
    "        'SVDpp': 'SVD++',\n",
    "        'NMF': 'NMF',\n",
    "        'SlopeOne': 'Slope One',\n",
    "        'KNNBasic': 'k-NN',\n",
    "        'KNNWithMeans': 'Centered k-NN',\n",
    "        'KNNBaseline': 'k-NN Baseline',\n",
    "        'CoClustering': 'Co-Clustering',\n",
    "        'BaselineOnly': 'Baseline',\n",
    "        'NormalPredictor': 'Random',\n",
    "        'ml-100k': 'Movielens 100k',\n",
    "        'ml-1m': 'Movielens 1M',\n",
    "        }"
   ]
  },
  {
   "cell_type": "code",
   "execution_count": 4,
   "id": "combined-moldova",
   "metadata": {},
   "outputs": [],
   "source": [
    "# set RNG\n",
    "np.random.seed(0)\n",
    "random.seed(0)"
   ]
  },
  {
   "cell_type": "code",
   "execution_count": 13,
   "id": "planned-ebony",
   "metadata": {},
   "outputs": [],
   "source": [
    "dataset = 'ml-100k'\n",
    "data = Dataset.load_builtin(dataset)\n",
    "kf = KFold(random_state=0)  # folds will be the same for all algorithms."
   ]
  },
  {
   "cell_type": "code",
   "execution_count": 10,
   "id": "forced-graphic",
   "metadata": {},
   "outputs": [
    {
     "data": {
      "text/plain": [
       "('186', '302', 3.0, '891717742')"
      ]
     },
     "execution_count": 10,
     "metadata": {},
     "output_type": "execute_result"
    }
   ],
   "source": [
    "data.raw_ratings[1]"
   ]
  },
  {
   "cell_type": "code",
   "execution_count": 14,
   "id": "satisfactory-travel",
   "metadata": {},
   "outputs": [
    {
     "name": "stdout",
     "output_type": "stream",
     "text": [
      "|:----|------:|------:|:--------|\n",
      "| SVD | 0.937 | 0.738 | 0:00:27 |\n",
      "|:----|------:|------:|:--------|\n",
      "| NMF | 0.965 | 0.758 | 0:00:34 |\n",
      "|:----------|------:|------:|:--------|\n",
      "| Slope One | 0.946 | 0.743 | 0:00:29 |\n",
      "|:--------------|-----:|-----:|:--------|\n",
      "| Co-Clustering | 0.97 | 0.76 | 0:00:15 |\n",
      "Estimating biases using als...\n",
      "Estimating biases using als...\n",
      "Estimating biases using als...\n",
      "Estimating biases using als...\n",
      "Estimating biases using als...\n",
      "|:---------|------:|------:|:--------|\n",
      "| Baseline | 0.944 | 0.748 | 0:00:03 |\n",
      "|:-------|------:|------:|:--------|\n",
      "| Random | 1.522 | 1.224 | 0:00:02 |\n",
      "| Movielens 100k   |   RMSE |   MAE | Time    |\n",
      "|:-----------------|-------:|------:|:--------|\n",
      "| SVD              |  0.937 | 0.738 | 0:00:27 |\n",
      "| NMF              |  0.965 | 0.758 | 0:00:34 |\n",
      "| Slope One        |  0.946 | 0.743 | 0:00:29 |\n",
      "| Co-Clustering    |  0.97  | 0.76  | 0:00:15 |\n",
      "| Baseline         |  0.944 | 0.748 | 0:00:03 |\n",
      "| Random           |  1.522 | 1.224 | 0:00:02 |\n"
     ]
    }
   ],
   "source": [
    "table = []\n",
    "for klass in classes:\n",
    "    start = time.time()\n",
    "    out = cross_validate(klass(), data, ['rmse', 'mae'], kf)\n",
    "    cv_time = str(datetime.timedelta(seconds=int(time.time() - start)))\n",
    "    link = LINK[klass.__name__]\n",
    "    mean_rmse = '{:.3f}'.format(np.mean(out['test_rmse']))\n",
    "    mean_mae = '{:.3f}'.format(np.mean(out['test_mae']))\n",
    "\n",
    "    new_line = [link, mean_rmse, mean_mae, cv_time]\n",
    "    print(tabulate([new_line], tablefmt=\"pipe\"))  # print current algo perf\n",
    "    table.append(new_line)\n",
    "\n",
    "header = [LINK[dataset],\n",
    "          'RMSE',\n",
    "          'MAE',\n",
    "          'Time'\n",
    "          ]\n",
    "print(tabulate(table, header, tablefmt=\"pipe\"))"
   ]
  }
 ],
 "metadata": {
  "kernelspec": {
   "display_name": "Python 3",
   "language": "python",
   "name": "python3"
  },
  "language_info": {
   "codemirror_mode": {
    "name": "ipython",
    "version": 3
   },
   "file_extension": ".py",
   "mimetype": "text/x-python",
   "name": "python",
   "nbconvert_exporter": "python",
   "pygments_lexer": "ipython3",
   "version": "3.8.6"
  }
 },
 "nbformat": 4,
 "nbformat_minor": 5
}
