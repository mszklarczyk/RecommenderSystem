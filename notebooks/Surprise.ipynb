{
 "cells": [
  {
   "cell_type": "code",
   "execution_count": 1,
   "id": "binding-lucas",
   "metadata": {},
   "outputs": [],
   "source": [
    "from surprise import SVD\n",
    "from surprise import Dataset\n",
    "from surprise.model_selection import cross_validate"
   ]
  },
  {
   "cell_type": "code",
   "execution_count": 3,
   "id": "fresh-feedback",
   "metadata": {},
   "outputs": [
    {
     "name": "stdout",
     "output_type": "stream",
     "text": [
      "Evaluating RMSE, MAE of algorithm SVD on 5 split(s).\n",
      "\n",
      "                  Fold 1  Fold 2  Fold 3  Fold 4  Fold 5  Mean    Std     \n",
      "RMSE (testset)    0.9415  0.9331  0.9292  0.9407  0.9408  0.9371  0.0050  \n",
      "MAE (testset)     0.7431  0.7345  0.7310  0.7425  0.7413  0.7385  0.0048  \n",
      "Fit time          6.11    6.50    6.14    6.16    5.88    6.16    0.20    \n",
      "Test time         0.27    0.21    0.24    0.27    0.22    0.24    0.03    \n"
     ]
    },
    {
     "data": {
      "text/plain": [
       "{'test_rmse': array([0.94152442, 0.93313089, 0.9292146 , 0.94067744, 0.94080538]),\n",
       " 'test_mae': array([0.74311086, 0.73449892, 0.73102332, 0.74249958, 0.74128116]),\n",
       " 'fit_time': (6.114603042602539,\n",
       "  6.496018171310425,\n",
       "  6.143018484115601,\n",
       "  6.156012296676636,\n",
       "  5.88105583190918),\n",
       " 'test_time': (0.2740001678466797,\n",
       "  0.20900321006774902,\n",
       "  0.2360372543334961,\n",
       "  0.27300190925598145,\n",
       "  0.22196269035339355)}"
      ]
     },
     "execution_count": 3,
     "metadata": {},
     "output_type": "execute_result"
    }
   ],
   "source": [
    "# Load the movielens-100k dataset (download it if needed).\n",
    "data = Dataset.load_builtin('ml-100k')\n",
    "\n",
    "# Use the famous SVD algorithm.\n",
    "algo = SVD()\n",
    "\n",
    "# Run 5-fold cross-validation and print results.\n",
    "cross_validate(algo, data, measures=['RMSE', 'MAE'], cv=5, verbose=True)\n"
   ]
  }
 ],
 "metadata": {
  "kernelspec": {
   "display_name": "Python 3",
   "language": "python",
   "name": "python3"
  },
  "language_info": {
   "codemirror_mode": {
    "name": "ipython",
    "version": 3
   },
   "file_extension": ".py",
   "mimetype": "text/x-python",
   "name": "python",
   "nbconvert_exporter": "python",
   "pygments_lexer": "ipython3",
   "version": "3.8.6"
  }
 },
 "nbformat": 4,
 "nbformat_minor": 5
}
