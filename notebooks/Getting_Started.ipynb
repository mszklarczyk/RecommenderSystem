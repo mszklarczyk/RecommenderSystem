{
 "cells": [
  {
   "cell_type": "markdown",
   "metadata": {
    "id": "UhZ4bM75-Wiq"
   },
   "source": [
    "# Getting Started\n",
    "\n",
    "This notebook gets you started with a brief nDCG evaluation with LensKit for Python with a simple experiment with the MovieLens 100K data set."
   ]
  },
  {
   "cell_type": "markdown",
   "metadata": {
    "id": "BKl2xgna-Wir"
   },
   "source": [
    "## Setup\n",
    "\n",
    "We first need to install LensKit:"
   ]
  },
  {
   "cell_type": "code",
   "execution_count": 5,
   "metadata": {},
   "outputs": [
    {
     "ename": "NameError",
     "evalue": "name 'lenskit' is not defined",
     "output_type": "error",
     "traceback": [
      "\u001b[1;31m---------------------------------------------------------------------------\u001b[0m",
      "\u001b[1;31mNameError\u001b[0m                                 Traceback (most recent call last)",
      "\u001b[1;32m<ipython-input-5-9ca4e223d280>\u001b[0m in \u001b[0;36m<module>\u001b[1;34m\u001b[0m\n\u001b[1;32m----> 1\u001b[1;33m \u001b[0mhelp\u001b[0m\u001b[1;33m(\u001b[0m\u001b[0mlenskit\u001b[0m\u001b[1;33m.\u001b[0m\u001b[0mdatasets\u001b[0m\u001b[1;33m)\u001b[0m\u001b[1;33m\u001b[0m\u001b[1;33m\u001b[0m\u001b[0m\n\u001b[0m",
      "\u001b[1;31mNameError\u001b[0m: name 'lenskit' is not defined"
     ]
    }
   ],
   "source": [
    "help(lenskit.datasets)"
   ]
  },
  {
   "cell_type": "markdown",
   "metadata": {
    "id": "kKkbPx9T-_5I"
   },
   "source": [
    "Now we can import LensKit utilities:"
   ]
  },
  {
   "cell_type": "code",
   "execution_count": 16,
   "metadata": {
    "id": "YmUzsYhc-Wir"
   },
   "outputs": [],
   "source": [
    "from lenskit.datasets import MovieLens\n",
    "from lenskit import batch, topn, util\n",
    "from lenskit import crossfold as xf\n",
    "from lenskit.algorithms import Recommender, als, item_knn as knn\n",
    "from lenskit import topn"
   ]
  },
  {
   "cell_type": "markdown",
   "metadata": {
    "id": "S9D7cnR1-Wit"
   },
   "source": [
    "And Pandas is very useful:"
   ]
  },
  {
   "cell_type": "code",
   "execution_count": 7,
   "metadata": {
    "id": "U_R-x2Ao-Wiu"
   },
   "outputs": [],
   "source": [
    "import pandas as pd"
   ]
  },
  {
   "cell_type": "markdown",
   "metadata": {
    "id": "jptzht4c-Wiy"
   },
   "source": [
    "## Loading Data\n",
    "\n",
    "We're going to use the ML-100K data set:"
   ]
  },
  {
   "cell_type": "code",
   "execution_count": 21,
   "metadata": {
    "colab": {
     "base_uri": "https://localhost:8080/",
     "height": 204
    },
    "id": "dV11a06p-Wiy",
    "outputId": "afc8ab9f-be5a-446d-dfc3-5e098f5edf51"
   },
   "outputs": [
    {
     "data": {
      "text/html": [
       "<div>\n",
       "<style scoped>\n",
       "    .dataframe tbody tr th:only-of-type {\n",
       "        vertical-align: middle;\n",
       "    }\n",
       "\n",
       "    .dataframe tbody tr th {\n",
       "        vertical-align: top;\n",
       "    }\n",
       "\n",
       "    .dataframe thead th {\n",
       "        text-align: right;\n",
       "    }\n",
       "</style>\n",
       "<table border=\"1\" class=\"dataframe\">\n",
       "  <thead>\n",
       "    <tr style=\"text-align: right;\">\n",
       "      <th></th>\n",
       "      <th>user</th>\n",
       "      <th>item</th>\n",
       "      <th>rating</th>\n",
       "      <th>timestamp</th>\n",
       "    </tr>\n",
       "  </thead>\n",
       "  <tbody>\n",
       "    <tr>\n",
       "      <th>0</th>\n",
       "      <td>1</td>\n",
       "      <td>1</td>\n",
       "      <td>4.0</td>\n",
       "      <td>964982703</td>\n",
       "    </tr>\n",
       "    <tr>\n",
       "      <th>1</th>\n",
       "      <td>1</td>\n",
       "      <td>3</td>\n",
       "      <td>4.0</td>\n",
       "      <td>964981247</td>\n",
       "    </tr>\n",
       "    <tr>\n",
       "      <th>2</th>\n",
       "      <td>1</td>\n",
       "      <td>6</td>\n",
       "      <td>4.0</td>\n",
       "      <td>964982224</td>\n",
       "    </tr>\n",
       "    <tr>\n",
       "      <th>3</th>\n",
       "      <td>1</td>\n",
       "      <td>47</td>\n",
       "      <td>5.0</td>\n",
       "      <td>964983815</td>\n",
       "    </tr>\n",
       "    <tr>\n",
       "      <th>4</th>\n",
       "      <td>1</td>\n",
       "      <td>50</td>\n",
       "      <td>5.0</td>\n",
       "      <td>964982931</td>\n",
       "    </tr>\n",
       "  </tbody>\n",
       "</table>\n",
       "</div>"
      ],
      "text/plain": [
       "   user  item  rating  timestamp\n",
       "0     1     1     4.0  964982703\n",
       "1     1     3     4.0  964981247\n",
       "2     1     6     4.0  964982224\n",
       "3     1    47     5.0  964983815\n",
       "4     1    50     5.0  964982931"
      ]
     },
     "execution_count": 21,
     "metadata": {},
     "output_type": "execute_result"
    }
   ],
   "source": [
    "ml_data = MovieLens('../data/01_raw/ml-latest-small')\n",
    "ratings = ml_data.ratings\n",
    "ratings.head()"
   ]
  },
  {
   "cell_type": "markdown",
   "metadata": {
    "id": "TdJ5cPrQ-Wi0"
   },
   "source": [
    "## Defining Algorithms\n",
    "\n",
    "Let's set up two algorithms:"
   ]
  },
  {
   "cell_type": "code",
   "execution_count": 22,
   "metadata": {
    "id": "6fmDeiVX-Wi0"
   },
   "outputs": [],
   "source": [
    "algo_ii = knn.ItemItem(20)\n",
    "algo_als = als.BiasedMF(50)"
   ]
  },
  {
   "cell_type": "markdown",
   "metadata": {
    "id": "g0HLlMmx-Wi3"
   },
   "source": [
    "## Running the Evaluation\n",
    "\n",
    "In LensKit, our evaluation proceeds in 2 steps:\n",
    "\n",
    "1. Generate recommendations\n",
    "2. Measure them\n",
    "\n",
    "If memory is a concern, we can measure while generating, but we will not do that for now.\n",
    "\n",
    "We will first define a function to generate recommendations from one algorithm over a single partition of the data set.  It will take an algorithm, a train set, and a test set, and return the recommendations.\n",
    "\n",
    "**Note:** before fitting the algorithm, we clone it.  Some algorithms misbehave when fit multiple times.\n",
    "\n",
    "**Note 2:** our algorithms do not necessarily implement the `Recommender` interface, so we adapt them. This fills in a default candidate selector.\n",
    "\n",
    "The code function looks like this:"
   ]
  },
  {
   "cell_type": "code",
   "execution_count": 23,
   "metadata": {
    "id": "Ail8EBMw-Wi3"
   },
   "outputs": [],
   "source": [
    "def eval(aname, algo, train, test):\n",
    "    fittable = util.clone(algo)\n",
    "    fittable = Recommender.adapt(fittable)\n",
    "    fittable.fit(train)\n",
    "    users = test.user.unique()\n",
    "    # now we run the recommender\n",
    "    recs = batch.recommend(fittable, users, 100)\n",
    "    # add the algorithm name for analyzability\n",
    "    recs['Algorithm'] = aname\n",
    "    return recs"
   ]
  },
  {
   "cell_type": "markdown",
   "metadata": {
    "id": "YvXB4_ox-Wi5"
   },
   "source": [
    "Now, we will loop over the data and the algorithms, and generate recommendations:"
   ]
  },
  {
   "cell_type": "code",
   "execution_count": 30,
   "metadata": {
    "id": "SmrMUXs1-Wi5"
   },
   "outputs": [],
   "source": [
    "all_recs = []\n",
    "test_data = []\n",
    "for train, test in xf.partition_users(ratings[['user', 'item', 'rating']], 5, xf.SampleFrac(0.2)):\n",
    "    test_data.append(test)\n",
    "    all_recs.append(eval('ItemItem', algo_ii, train, test))\n",
    "#     all_recs.append(eval('ALS', algo_als, train, test))"
   ]
  },
  {
   "cell_type": "code",
   "execution_count": 47,
   "metadata": {},
   "outputs": [
    {
     "data": {
      "text/plain": [
       "[         item     score  user  rank Algorithm\n",
       " 0      127152  6.421875     9     1  ItemItem\n",
       " 1      142422  6.421875     9     2  ItemItem\n",
       " 2      162478  6.171875     9     3  ItemItem\n",
       " 3      161580  6.005208     9     4  ItemItem\n",
       " 4      110669  5.921875     9     5  ItemItem\n",
       " ...       ...       ...   ...   ...       ...\n",
       " 12195    2314  4.266134   609    96  ItemItem\n",
       " 12196    3813  4.256936   609    97  ItemItem\n",
       " 12197   30745  4.253068   609    98  ItemItem\n",
       " 12198   50851  4.252631   609    99  ItemItem\n",
       " 12199    5949  4.251036   609   100  ItemItem\n",
       " \n",
       " [12200 rows x 5 columns],\n",
       "          item     score  user  rank Algorithm\n",
       " 0       97866  5.604500     5     1  ItemItem\n",
       " 1      142115  5.438471     5     2  ItemItem\n",
       " 2      103107  5.285372     5     3  ItemItem\n",
       " 3       83827  5.255212     5     4  ItemItem\n",
       " 4        3855  5.238338     5     5  ItemItem\n",
       " ...       ...       ...   ...   ...       ...\n",
       " 12195    1950  4.582399   606    96  ItemItem\n",
       " 12196   71131  4.575087   606    97  ItemItem\n",
       " 12197    3275  4.567775   606    98  ItemItem\n",
       " 12198    3091  4.564552   606    99  ItemItem\n",
       " 12199    5949  4.564066   606   100  ItemItem\n",
       " \n",
       " [12200 rows x 5 columns],\n",
       "         item     score  user  rank Algorithm\n",
       " 0        506  6.604651     3     1  ItemItem\n",
       " 1       3655  6.354651     3     2  ItemItem\n",
       " 2       5772  6.141412     3     3  ItemItem\n",
       " 3       8939  6.104651     3     4  ItemItem\n",
       " 4       3302  6.093089     3     5  ItemItem\n",
       " ...      ...       ...   ...   ...       ...\n",
       " 12195  26131  4.975469   597    96  ItemItem\n",
       " 12196   1213  4.968317   597    97  ItemItem\n",
       " 12197  86892  4.968142   597    98  ItemItem\n",
       " 12198  43376  4.967165   597    99  ItemItem\n",
       " 12199    389  4.966245   597   100  ItemItem\n",
       " \n",
       " [12200 rows x 5 columns],\n",
       "          item     score  user  rank Algorithm\n",
       " 0       97866  5.954156     1     1  ItemItem\n",
       " 1      142115  5.842292     1     2  ItemItem\n",
       " 2       55167  5.747134     1     3  ItemItem\n",
       " 3       26810  5.698160     1     4  ItemItem\n",
       " 4      117192  5.693928     1     5  ItemItem\n",
       " ...       ...       ...   ...   ...       ...\n",
       " 12195    2357  4.785565   610    96  ItemItem\n",
       " 12196  106642  4.785517   610    97  ItemItem\n",
       " 12197  117192  4.782008   610    98  ItemItem\n",
       " 12198  147382  4.782008   610    99  ItemItem\n",
       " 12199     123  4.781118   610   100  ItemItem\n",
       " \n",
       " [12200 rows x 5 columns],\n",
       "         item     score  user  rank Algorithm\n",
       " 0       5919  5.650458     4     1  ItemItem\n",
       " 1      92643  5.130394     4     2  ItemItem\n",
       " 2       6254  4.935383     4     3  ItemItem\n",
       " 3       8254  4.820340     4     4  ItemItem\n",
       " 4       1212  4.818675     4     5  ItemItem\n",
       " ...      ...       ...   ...   ...       ...\n",
       " 12195   6269  4.885966   607    96  ItemItem\n",
       " 12196   2329  4.884075   607    97  ItemItem\n",
       " 12197     28  4.882620   607    98  ItemItem\n",
       " 12198    942  4.882486   607    99  ItemItem\n",
       " 12199   6776  4.880680   607   100  ItemItem\n",
       " \n",
       " [12200 rows x 5 columns]]"
      ]
     },
     "execution_count": 47,
     "metadata": {},
     "output_type": "execute_result"
    }
   ],
   "source": [
    "# \n",
    "all_recs"
   ]
  },
  {
   "cell_type": "markdown",
   "metadata": {
    "id": "A8OKt3Nh-Wi7"
   },
   "source": [
    "With the results in place, we can concatenate them into a single data frame:"
   ]
  },
  {
   "cell_type": "code",
   "execution_count": 25,
   "metadata": {
    "colab": {
     "base_uri": "https://localhost:8080/",
     "height": 204
    },
    "id": "QN4dpGrj-Wi7",
    "outputId": "2cda1e31-3732-428b-82c7-96fc3bbb93af"
   },
   "outputs": [
    {
     "data": {
      "text/html": [
       "<div>\n",
       "<style scoped>\n",
       "    .dataframe tbody tr th:only-of-type {\n",
       "        vertical-align: middle;\n",
       "    }\n",
       "\n",
       "    .dataframe tbody tr th {\n",
       "        vertical-align: top;\n",
       "    }\n",
       "\n",
       "    .dataframe thead th {\n",
       "        text-align: right;\n",
       "    }\n",
       "</style>\n",
       "<table border=\"1\" class=\"dataframe\">\n",
       "  <thead>\n",
       "    <tr style=\"text-align: right;\">\n",
       "      <th></th>\n",
       "      <th>item</th>\n",
       "      <th>score</th>\n",
       "      <th>user</th>\n",
       "      <th>rank</th>\n",
       "      <th>Algorithm</th>\n",
       "    </tr>\n",
       "  </thead>\n",
       "  <tbody>\n",
       "    <tr>\n",
       "      <th>0</th>\n",
       "      <td>97866</td>\n",
       "      <td>6.052074</td>\n",
       "      <td>5</td>\n",
       "      <td>1</td>\n",
       "      <td>ItemItem</td>\n",
       "    </tr>\n",
       "    <tr>\n",
       "      <th>1</th>\n",
       "      <td>142115</td>\n",
       "      <td>5.903903</td>\n",
       "      <td>5</td>\n",
       "      <td>2</td>\n",
       "      <td>ItemItem</td>\n",
       "    </tr>\n",
       "    <tr>\n",
       "      <th>2</th>\n",
       "      <td>103107</td>\n",
       "      <td>5.455359</td>\n",
       "      <td>5</td>\n",
       "      <td>3</td>\n",
       "      <td>ItemItem</td>\n",
       "    </tr>\n",
       "    <tr>\n",
       "      <th>3</th>\n",
       "      <td>106642</td>\n",
       "      <td>5.380351</td>\n",
       "      <td>5</td>\n",
       "      <td>4</td>\n",
       "      <td>ItemItem</td>\n",
       "    </tr>\n",
       "    <tr>\n",
       "      <th>4</th>\n",
       "      <td>3855</td>\n",
       "      <td>5.345925</td>\n",
       "      <td>5</td>\n",
       "      <td>5</td>\n",
       "      <td>ItemItem</td>\n",
       "    </tr>\n",
       "  </tbody>\n",
       "</table>\n",
       "</div>"
      ],
      "text/plain": [
       "     item     score  user  rank Algorithm\n",
       "0   97866  6.052074     5     1  ItemItem\n",
       "1  142115  5.903903     5     2  ItemItem\n",
       "2  103107  5.455359     5     3  ItemItem\n",
       "3  106642  5.380351     5     4  ItemItem\n",
       "4    3855  5.345925     5     5  ItemItem"
      ]
     },
     "execution_count": 25,
     "metadata": {},
     "output_type": "execute_result"
    }
   ],
   "source": [
    "all_recs = pd.concat(all_recs, ignore_index=True)\n",
    "all_recs.head()"
   ]
  },
  {
   "cell_type": "markdown",
   "metadata": {
    "id": "gYi83B1C-Wi9"
   },
   "source": [
    "To compute our analysis, we also need to concatenate the test data into a single frame:"
   ]
  },
  {
   "cell_type": "code",
   "execution_count": 26,
   "metadata": {
    "id": "3iC3fXml-Wi9"
   },
   "outputs": [],
   "source": [
    "test_data = pd.concat(test_data, ignore_index=True)"
   ]
  },
  {
   "cell_type": "markdown",
   "metadata": {
    "id": "RNLl1uAo-Wi_"
   },
   "source": [
    "We analyze our recommendation lists with a `RecListAnalysis`.  It takes care of the hard work of making sure that the truth data (our test data) and the recoommendations line up properly.\n",
    "\n",
    "We do assume here that each user only appears once per algorithm. Since our crossfold method partitions users, this is fine."
   ]
  },
  {
   "cell_type": "code",
   "execution_count": 27,
   "metadata": {
    "colab": {
     "base_uri": "https://localhost:8080/",
     "height": 235
    },
    "id": "BEcRuEoF-Wi_",
    "outputId": "d65d1226-9216-4c0e-c0ac-06671bb7c7d8"
   },
   "outputs": [
    {
     "data": {
      "text/html": [
       "<div>\n",
       "<style scoped>\n",
       "    .dataframe tbody tr th:only-of-type {\n",
       "        vertical-align: middle;\n",
       "    }\n",
       "\n",
       "    .dataframe tbody tr th {\n",
       "        vertical-align: top;\n",
       "    }\n",
       "\n",
       "    .dataframe thead th {\n",
       "        text-align: right;\n",
       "    }\n",
       "</style>\n",
       "<table border=\"1\" class=\"dataframe\">\n",
       "  <thead>\n",
       "    <tr style=\"text-align: right;\">\n",
       "      <th></th>\n",
       "      <th></th>\n",
       "      <th>nrecs</th>\n",
       "      <th>ndcg</th>\n",
       "    </tr>\n",
       "    <tr>\n",
       "      <th>Algorithm</th>\n",
       "      <th>user</th>\n",
       "      <th></th>\n",
       "      <th></th>\n",
       "    </tr>\n",
       "  </thead>\n",
       "  <tbody>\n",
       "    <tr>\n",
       "      <th rowspan=\"5\" valign=\"top\">ItemItem</th>\n",
       "      <th>1</th>\n",
       "      <td>100.0</td>\n",
       "      <td>0.0</td>\n",
       "    </tr>\n",
       "    <tr>\n",
       "      <th>2</th>\n",
       "      <td>100.0</td>\n",
       "      <td>0.0</td>\n",
       "    </tr>\n",
       "    <tr>\n",
       "      <th>3</th>\n",
       "      <td>100.0</td>\n",
       "      <td>0.0</td>\n",
       "    </tr>\n",
       "    <tr>\n",
       "      <th>4</th>\n",
       "      <td>100.0</td>\n",
       "      <td>0.0</td>\n",
       "    </tr>\n",
       "    <tr>\n",
       "      <th>5</th>\n",
       "      <td>100.0</td>\n",
       "      <td>0.0</td>\n",
       "    </tr>\n",
       "  </tbody>\n",
       "</table>\n",
       "</div>"
      ],
      "text/plain": [
       "                nrecs  ndcg\n",
       "Algorithm user             \n",
       "ItemItem  1     100.0   0.0\n",
       "          2     100.0   0.0\n",
       "          3     100.0   0.0\n",
       "          4     100.0   0.0\n",
       "          5     100.0   0.0"
      ]
     },
     "execution_count": 27,
     "metadata": {},
     "output_type": "execute_result"
    }
   ],
   "source": [
    "rla = topn.RecListAnalysis()\n",
    "rla.add_metric(topn.ndcg)\n",
    "results = rla.compute(all_recs, test_data)\n",
    "results.head()"
   ]
  },
  {
   "cell_type": "markdown",
   "metadata": {
    "id": "BlzeAxvo-WjC"
   },
   "source": [
    "Now we have nDCG values!"
   ]
  },
  {
   "cell_type": "code",
   "execution_count": 28,
   "metadata": {
    "colab": {
     "base_uri": "https://localhost:8080/",
     "height": 85
    },
    "id": "o5NFmun7-WjC",
    "outputId": "8bf270b9-cfbb-4668-a0bf-93397d8d1f6f"
   },
   "outputs": [
    {
     "data": {
      "text/plain": [
       "Algorithm\n",
       "ItemItem    0.003563\n",
       "Name: ndcg, dtype: float64"
      ]
     },
     "execution_count": 28,
     "metadata": {},
     "output_type": "execute_result"
    }
   ],
   "source": [
    "results.groupby('Algorithm').ndcg.mean()"
   ]
  },
  {
   "cell_type": "markdown",
   "metadata": {
    "id": "meHcN4S3_wcA"
   },
   "source": [
    "Adn we can plot them:"
   ]
  },
  {
   "cell_type": "code",
   "execution_count": 29,
   "metadata": {
    "colab": {
     "base_uri": "https://localhost:8080/",
     "height": 331
    },
    "id": "7ZlYiIvh-WjE",
    "outputId": "8133ad79-b88a-4907-889c-3c88d7c5f9ba"
   },
   "outputs": [
    {
     "data": {
      "text/plain": [
       "<AxesSubplot:xlabel='Algorithm'>"
      ]
     },
     "execution_count": 29,
     "metadata": {},
     "output_type": "execute_result"
    },
    {
     "data": {
      "image/png": "[encoded data removed]",
      "text/plain": [
       "<Figure size 432x288 with 1 Axes>"
      ]
     },
     "metadata": {
      "needs_background": "light"
     },
     "output_type": "display_data"
    }
   ],
   "source": [
    "results.groupby('Algorithm').ndcg.mean().plot.bar()"
   ]
  },
  {
   "cell_type": "code",
   "execution_count": null,
   "metadata": {
    "id": "_a5zFyej-WjH"
   },
   "outputs": [],
   "source": []
  }
 ],
 "metadata": {
  "colab": {
   "collapsed_sections": [],
   "name": "Getting Started with LensKit for Python",
   "provenance": []
  },
  "kernelspec": {
   "display_name": "Python 3",
   "language": "python",
   "name": "python3"
  },
  "language_info": {
   "codemirror_mode": {
    "name": "ipython",
    "version": 3
   },
   "file_extension": ".py",
   "mimetype": "text/x-python",
   "name": "python",
   "nbconvert_exporter": "python",
   "pygments_lexer": "ipython3",
   "version": "3.8.6"
  }
 },
 "nbformat": 4,
 "nbformat_minor": 1
}
